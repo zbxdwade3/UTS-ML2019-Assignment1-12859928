{
  "nbformat": 4,
  "nbformat_minor": 0,
  "metadata": {
    "kernelspec": {
      "display_name": "Python 3",
      "language": "python",
      "name": "python3"
    },
    "language_info": {
      "codemirror_mode": {
        "name": "ipython",
        "version": 3
      },
      "file_extension": ".py",
      "mimetype": "text/x-python",
      "name": "python",
      "nbconvert_exporter": "python",
      "pygments_lexer": "ipython3",
      "version": "3.5.4"
    },
    "toc": {
      "base_numbering": 1,
      "nav_menu": {},
      "number_sections": true,
      "sideBar": true,
      "skip_h1_title": false,
      "title_cell": "Table of Contents",
      "title_sidebar": "Contents",
      "toc_cell": false,
      "toc_position": {},
      "toc_section_display": true,
      "toc_window_display": false
    },
    "colab": {
      "name": "A1_ReportDraft.12859928.ipynb",
      "version": "0.3.2",
      "provenance": [],
      "toc_visible": true
    }
  },
  "cells": [
    {
      "cell_type": "markdown",
      "metadata": {
        "id": "s7sWvy-b64bv",
        "colab_type": "text"
      },
      "source": [
        "# Draft and Experiment Area"
      ]
    },
    {
      "cell_type": "markdown",
      "metadata": {
        "id": "s5wNt6MJq4b9",
        "colab_type": "text"
      },
      "source": [
        "Assignment1 \n",
        "Boxuan Zhang\n",
        "12859928\n"
      ]
    },
    {
      "cell_type": "markdown",
      "metadata": {
        "id": "uHHTKyTc64bw",
        "colab_type": "text"
      },
      "source": [
        "1. First impression\n",
        "    * What is my chosen paper to read?\n",
        "    Eigenfacesvs. Fisherfaces: RecognitionUsing Class Speciic Linear Projection\n",
        "    * What type of the main contribution the paper has made?\n",
        "        this article develop a face recognition algorithm that less afect by light and face expressed\n",
        "\n",
        "    * _Before_ reading the main body of the paper, write down your first impression  obtained from its abstract and short introduction.\n",
        "    I think this article will compare with four algorithm and try to solve the main question\"face are not truly lambertian surfaces and have shadowing , images will deviate from this linear subspace.\" and give a new algorithm to solve or at least try to improve the current algorithm\n",
        "    \n",
        "    * Why does the paper attract you, such as, How it surprised you? Why do you think it addresses an important topic that will be helpful in your future study of machine learning?\n",
        "    It attract me because lot of face recognize system appeared in my life recently, like the access control system of the fitness center, and Alipay also push face recognise as a pay method. I think this direction will be a potential aspect in machine learning area, so I became interested in it    \n",
        "    \n",
        "2. Read the paper abstract and introduction, list here all the notions that you don't know the precise meaning. If you think you have completed your list,  compare the list with people around you who have chosen the same or a similar paper.\n",
        "\n",
        "3. (During the next 7 days) Re-consider the central problem of the paper.\n"
      ]
    },
    {
      "cell_type": "markdown",
      "metadata": {
        "id": "dtYNPSca64by",
        "colab_type": "text"
      },
      "source": [
        "# Review Report on \"PaperName\""
      ]
    },
    {
      "cell_type": "markdown",
      "metadata": {
        "id": "lThToC3n64bz",
        "colab_type": "text"
      },
      "source": [
        "## Introduction\n",
        "This report is ‘Eigenfaces vs. fisher-faces: recognition using class specific linear projection’written by Peter N. Belhumerur, Joao P. Hespanha and David J.kriegman. the main part of this article has been divided into four section including introduction, method, experiment results and conclusion. \n",
        "\n"
      ]
    },
    {
      "cell_type": "code",
      "metadata": {
        "id": "3YjqaHDAdBAq",
        "colab_type": "code",
        "colab": {}
      },
      "source": [
        ""
      ],
      "execution_count": 0,
      "outputs": []
    },
    {
      "cell_type": "markdown",
      "metadata": {
        "id": "jqZcDBuq64b0",
        "colab_type": "text"
      },
      "source": [
        "## Content"
      ]
    },
    {
      "cell_type": "markdown",
      "metadata": {
        "id": "BbtbFNm564b0",
        "colab_type": "text"
      },
      "source": [
        "\n",
        "This paper has described a new approach for face recognition. The main challenge for this technology before is when the extreme variation happens on humans face such as facial expressions and variation of lights. The variation of light not only include the intensity but also the direction of light sources and the number of them. \n",
        "\n",
        "This article is aimed to solve these problems and get a higher accuracy for face recognition. It has discussed four kinds of method, the simplest one is nearest neighbor which has some disadvantages like expensive computational. The second one is eigenfaces. This method reduce the dimension by using PCA techniques. This method has a disadvantage that the scatter being maximized does not only decided by not only between-class scatter but also the within-class scatter. That will cause the point in space would not cluster well. The third one is linear subspaces, this method give a simple classification algorithm to recognize Lambertian surfaces, it seems this method is better than the other two because this method is less affected by light. The last method is fisherfaces which has the lowest error rate in the four methods. This algorithm use FLD can achieve greater between-class scatter and make the classification simplified. However, in this experiment, authors do not process the variation of pose and they assume that the face has been located and aligned within the image. So, I imagine that the experiment can only be done when the experimental environment is suitable. It may not suitable for the natural environment. \n",
        "\n",
        "The database for this experiment is rom the Harvard Robotics Laboratory, the reason to use this database is because this article wishes to test the specific hypotheses so some standard database are inappropriate.\n"
      ]
    },
    {
      "cell_type": "markdown",
      "metadata": {
        "id": "l-KkzF4k64b1",
        "colab_type": "text"
      },
      "source": [
        "## Innovation"
      ]
    },
    {
      "cell_type": "markdown",
      "metadata": {
        "id": "zIbtKh-364b1",
        "colab_type": "text"
      },
      "source": [
        "This paper compared with four existing algorithm of face recognition, also they develop a new face recognition algorithm which is insensitive of variation in lighting and facial expression. I think they have tried a new method, not directly explicitly modeling this deviation, they project the image to a linear subspace. Their projection method is based on Fisher Linear Discriminant and it produces well separated classes in low-dimensional subspace. \n",
        "\n",
        "In my opinion, the main innovation of this article, is authors compared four current methods and try to improve the performance of these algorithm, then give the result to show readers which one is the best algorithm. They compared the algorithms under the variable illumination, to verify that face recognition algorithms will perform better if they exploit the fac hat images at a Lambertian surface lie in a linear subspace. In the experiment, 5 subsets are set as variables, then they performed two experiments on the database, extrapolation and interpolation. With the result, we can see that fisher face is the best algorithm because it has the lowest error rate in the four algorithm and the shortest time cost. They improve the algorithm performance by preprocess the images, such as normalize the images, eliminate the lighting variation.\n",
        "\n",
        "Then in the second experimental confirm that the performance of fisherface is much better than the other. The reason of it might be this algorithm ignore the nonsignificant portion of the image, so it less affect by the expression. We should also notice that although all algorithm performed better in full face images, fisherface still have a dramatic improvement, they have made a impressive job to improve this algorithm.\n"
      ]
    },
    {
      "cell_type": "code",
      "metadata": {
        "id": "tOtI3AvMLVg3",
        "colab_type": "code",
        "colab": {}
      },
      "source": [
        ""
      ],
      "execution_count": 0,
      "outputs": []
    },
    {
      "cell_type": "markdown",
      "metadata": {
        "id": "J6WFMWUv64b2",
        "colab_type": "text"
      },
      "source": [
        "## Technical quality"
      ]
    },
    {
      "cell_type": "markdown",
      "metadata": {
        "id": "GilxQBSE64b2",
        "colab_type": "text"
      },
      "source": [
        "This article has a high quality of a paper in this area. The authors make three experiments to compare fisherface algorithm with others and get the result-fisherface is the best face recognize algorithm currently.\n",
        "\n",
        "By adjusting the angle and intensity of light, three experiments were performed to compare the fisherface with other approaches.\n",
        "\n",
        "In the first the authors divide 5 subsets, adjust the angel of the light resource to change the light on the face, then divide the experiment into two experiments, use subset1 as training sample, subset1,2,3 as test dataset to do the extrapolation experiment and subset1,5 as training data, subset 2,3,4 as test data.\n",
        "\n",
        "In the second experiment, a pair of glasses were included as a variation which is really quite novel as I suppose. They also test the error rate when the facial expression changes, every volunteer will be taken 10 photos, the first five of all adjust the light resources and the last five changes the expression.\n",
        "\n",
        "The last one is glasses recognition, only PCA and fisherface were used in this experiment, they use Yale Database, half with glasses. The result shows that PCA nearly random recognize the images, because it classified both with and without glasses into same class, that makes the high error rate reached 52.6%. Compared with PCA, fisherface performed much better in this experiment.\n",
        "\n"
      ]
    },
    {
      "cell_type": "code",
      "metadata": {
        "id": "1QQ7FHrUyPsy",
        "colab_type": "code",
        "colab": {}
      },
      "source": [
        ""
      ],
      "execution_count": 0,
      "outputs": []
    },
    {
      "cell_type": "markdown",
      "metadata": {
        "id": "-mVooWAN64b3",
        "colab_type": "text"
      },
      "source": [
        "## Application and X-factor"
      ]
    },
    {
      "cell_type": "markdown",
      "metadata": {
        "id": "25XK-SUV64b3",
        "colab_type": "text"
      },
      "source": [
        "I think this technique will be develop soon in the future. Because it is fast and easy to check one’s identity. Actually, it has been using on business using and security using, such as attendance in a company and check the personal information in the airport. In this paper, author didn’t give some advises for future using, but they have mentioned something that they imagine, how well would fisherface method perform when it extend to large database. We can see in the paper, fisherface give a dramatically error rate when test with these small database, in future development, testers may use it in a bigger database. In my opinion, if the face recognize can be improved and can be used in nature environment, it my help with criminal detection. If the security camera catch the face of criminal, it can suddenly visit the database of human face in police system and confirm the identity of criminal. If this function can be realize, the number commit can be effectively reduced, it makes crime much more difficult then before, and people will consider more before they crime. Unfortunately, this idea can’t be realized due to the technology reason, but I think it may be realized in the future."
      ]
    },
    {
      "cell_type": "markdown",
      "metadata": {
        "id": "A0-YCnI264b4",
        "colab_type": "text"
      },
      "source": [
        "## Presentation"
      ]
    },
    {
      "cell_type": "markdown",
      "metadata": {
        "id": "1z1O0fKe64b4",
        "colab_type": "text"
      },
      "source": [
        "This paper has a clear and well-designed structure, it started with abstract, gives a rough description of the content of the article. Then from the introduction part to the experiment result, lead the readers to understand the whole experiment they have done step by step. Also, they gives the data and images to present their process of experiment, that interesting and make the article easy to learn. The things they may need to improve is that they may give a obviously result to answer the question in the title in abstract. Although we can see the result in the result and conclusion part, it is important to give a result in abstract. Also, if they can give some future development for this experiment, such as future using, it will be better for readers to realise what they can do with this technology"
      ]
    },
    {
      "cell_type": "markdown",
      "metadata": {
        "id": "547WYiPB64b5",
        "colab_type": "text"
      },
      "source": [
        "## References\n",
        "\n",
        "1.Anggo,M., Arapu,L.,2018,'Face Recognition Using Fisherface Method',Journal of Physics Conference Series, June,2018,viewed,August.2019, https://www.researchgate.net/publication/325748459_Face_Recognition_Using_Fisherface_Method\n",
        "\n",
        "\n",
        "2.Wagner.P,.fisherfaces,Bytefish.de,viewed, August.2019<https://www.bytefish.de/blog/fisherfaces/>\n",
        "\n"
      ]
    },
    {
      "cell_type": "markdown",
      "metadata": {
        "id": "_3TcaP6Gpcbd",
        "colab_type": "text"
      },
      "source": [
        "# link \n",
        "link:https://colab.research.google.com/drive/1kjSz77eWsitCpnAEHbM7t1qdFy2fHAJg#scrollTo=lThToC3n64bz\n",
        "\n"
      ]
    }
  ]
}