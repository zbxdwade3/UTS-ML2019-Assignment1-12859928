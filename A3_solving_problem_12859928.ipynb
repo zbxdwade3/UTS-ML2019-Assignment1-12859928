{
  "nbformat": 4,
  "nbformat_minor": 0,
  "metadata": {
    "colab": {
      "name": "Untitled2.ipynb",
      "provenance": []
    },
    "kernelspec": {
      "name": "python3",
      "display_name": "Python 3"
    }
  },
  "cells": [
    {
      "cell_type": "markdown",
      "metadata": {
        "id": "nbUlEFNY14ld",
        "colab_type": "text"
      },
      "source": [
        "# Project title\n",
        "How can machine learning help with checkout in supermarket."
      ]
    },
    {
      "cell_type": "markdown",
      "metadata": {
        "id": "CBBrhpTC2AIN",
        "colab_type": "text"
      },
      "source": [
        "# Aims\n",
        "People will generally buy their daily supplies in supermarket, most of things they can scan the bar code on the item, however, according to my observation, people whose mother language is not English will feel struggle on recognize fruit and vegetables when they checkout. Because generally, fruit and vegetable do not provide a bar code for customers to scan and quickly finish buying process. So my aim in this project is using image recognition technique of machine learning to help customers complete checkout quickly. This aim can be divided into these tasks: collect the picture data of products in the supermarket. Then use some classifier to training and testing the data, such as SVM and KNN, use feature extraction algorithm to realize the object detection, such as HoG, LBP and SURF. And finally, verify the approach by the dataset collected on the internet."
      ]
    },
    {
      "cell_type": "markdown",
      "metadata": {
        "id": "JTFFfEAU2R5i",
        "colab_type": "text"
      },
      "source": [
        "# Background \n",
        "Nowadays, the object detection has developed rapidly. Some algorithms are using in this area with good results. The object detection algorithm are usually divided into 3 categories. First one is some algorithm which we learned in the class, such as Cascade, HoG and SVM, and some improvement of those algorithm, they are classical algorithm and perform well in this field. The second one is candidate region and deep learning classification: a scheme that extracts candidate regions and classifies the corresponding regions based on the deep learning method, such as RCNN, that is selective Search combine with CNN and SVM, faster RCNN which combined RPN with CNN and ROI. And the last category is the Regression method based on deep learning, such as YOLO and SSD. In this project, I plan to try HOG, Faster RCNN and SSD, pick one algorithm in each category, make a comparison and choose the best one to realize.\n",
        "\n",
        "Briefly introduce these three algorithms:\n",
        "(1)\tHoG:\n",
        "HoG: Histogram of Oriented Gradient, is a kind of feature using in computer visualization and image processing. It consists of calculating and statistic the gradient direction histogram of the local area of the image. Hog features combined with SVM classifiers have been widely used in image recognition.\n",
        "\n",
        "(2)\tFaster RCNN:\n",
        "Faster RCNN makes a improvement of RCNN. Instead of working on large number of areas, the RCNN algorithm proposes a bunch of boxes in the image and checks if they contain any objects. RCNN uses selective search to extract these boxes from the image.\n",
        "\n",
        "The following steps usually use the Faster RCNN method:\n",
        "1.\tTaking an image as input and passing it to a convolutional neural network, which returns a feature map of image.\n",
        "2.\tApply RPN on these feature maps, return the proposed object and its score;\n",
        "3.\tApply the Rol pool layer on these proposed objects to reduce all proposals to the same size;\n",
        "4.\tFinally, the proposal is passed to the fully connected layer, which has a softmax layer and a linear regression layer at the top to classify and output the bounding box of the object\n",
        "\n",
        "(3)\tSSD: SSD is the improve of YOLO. Since SingleShot, which is adopted by YOLO, is based on te last convolutional layer, there is a certain deviation from the target positioning, and it is easy to cause missed detection of small targets. By learning from the Anchor mechanism of Faster-RCNN, SSD solves this problem.\n"
      ]
    },
    {
      "cell_type": "markdown",
      "metadata": {
        "id": "i69bMmGG2XcU",
        "colab_type": "text"
      },
      "source": [
        "# Research Project\n",
        "The importance of this issue is to help people who are not familiar with the local language. For foreign customers, when they are first introduced to an unfamiliar language environment, it is no easy for them to spell a correct word. In Australia, Self-help pay cost is normal, when a Chinese old man comes to a supermarket and wish to buy some vegetables they may fall in struggle. This project is to help them with this issue.\n",
        "\n",
        "The innovation is that we set a camera to help the checkout link. With the help of object detect technology, customers can put the item in front of the camera and the machine will quickly recognize the kind of item. It can even replace the bar code. This project can bring a huge convenience to life\n",
        "\n",
        "To solve this problem, we need collect the dataset first. We can take pictures for all kinds of fruit and vegetables. Take 70% of all pictures as training dataset, and 30% for testing set. Then, using python to realize the algorithm we mentioned above. A popular choice is use tensorflow, we can import the packet we need online and train the model, after that we use test dataset to check the accuracy of those three algorithms. Finally, evaluate the performance and make an evaluation.\n",
        "\n",
        "\n",
        "Timeline \n",
        "\n",
        "First two months: collect the data, take pictures for each item in the supermarket, this may take more than one month to collect and separate the data.\n",
        "\n",
        "Month 3: realize the algorithm and train the model, due to the huge amount of data, the training process might be long, and the testing process will take a long time as well, it may take one month to finish the whole work.\n",
        "\n",
        "Month 4-6: evaluate the initial result and try to improve the model. We can try to improve the model and get a better performance.\n",
        "\n",
        "Month7: use improved model to train and test the data again to get the final result. Compare the performance of each algorithm and decide the best one.\n",
        "\n",
        "Month8-9: link the camera and with the system, test the performance.\n",
        "\n",
        "Month10: find a volunteer to take the test, collect the feedback and improve the system again.\n",
        "\n",
        "Month11-12: try to promote the system to more merchant and get more benefit.\n",
        "\n",
        "\n",
        "\n",
        "The expect outcome is it can completely help the customers improve the efficiency on checkout link, and some customers who are not familiar with local language will enjoy using it. That will make them choose the supermarket which provide this system for shopping. In order to attract more customers, the supermarket will install the system and pay for the patent, that will bring benefit for investors.\n",
        "\n"
      ]
    },
    {
      "cell_type": "markdown",
      "metadata": {
        "id": "yiEIWSRd2y1j",
        "colab_type": "text"
      },
      "source": [
        "# Budget\n",
        "The budget included the salary for the developers and make the prototype. Also, we may need some cost on generalize our system. Which may cost $50,000. "
      ]
    },
    {
      "cell_type": "markdown",
      "metadata": {
        "id": "IrjIzz9W3L4F",
        "colab_type": "text"
      },
      "source": [
        "# Personnel\n",
        "This project we need some developers who are skilled in machine learning area and deep learning area. Then we need some people to collect the data, and buy the item we need such as camera and cashier desk, finally we need some volunteers to test the system."
      ]
    },
    {
      "cell_type": "markdown",
      "metadata": {
        "id": "zG22OoUB3QCS",
        "colab_type": "text"
      },
      "source": [
        "# Video link\n",
        "https://youtu.be/2sdlyllmXBQ"
      ]
    },
    {
      "cell_type": "markdown",
      "metadata": {
        "id": "iLHjUg21lJ8V",
        "colab_type": "text"
      },
      "source": [
        "# Colab Link\n",
        "https://colab.research.google.com/drive/1_934i2EXOF07lLPSP0hNaHjKmdW_C0ui#scrollTo=iLHjUg21lJ8V"
      ]
    },
    {
      "cell_type": "markdown",
      "metadata": {
        "id": "h67JoUYe3YYl",
        "colab_type": "text"
      },
      "source": [
        "# Reference\n",
        "Sakib.S, Ashrafi.Z, Siddique.A. 2019 ‘Implementation of fruits recognition classifier using convolutional neural network algorithm for observation of asccuracies for various hidden layers’ IEEE,vol.56 no.4,pp.\n",
        "\n",
        "Sun.Y et al, 2014,’Deep learning face representation by joint identification-verfication ‘, Advances in neural information processing systems. Pp.1988-1996\n",
        "\n",
        "Hubel.H, Wiesel.T, 2014, ‘receptive fields, binocular interaction and functional architecture in the cat’s visual cortex,” The Journal of physiology, vol.160, pp106-152\n"
      ]
    }
  ]
}